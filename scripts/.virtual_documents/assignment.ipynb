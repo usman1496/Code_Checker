





<!DOCTYPE html>
<html>
<head>
    <title> Hello world </title>
</head>
<body>
    <h1>Header<h1>
    <p>Paragraph<p>
    <a href="https://example.com">Click here</a> 
    <div>
        <p>Nested paragraph<p>
    </div>
</body>
</html>






/* Write your CSS code here */
body {
    color: red
    font-size: 16px;
}
