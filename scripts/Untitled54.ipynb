{
 "cells": [
  {
   "cell_type": "code",
   "execution_count": null,
   "id": "33805611-43e5-45fb-9639-a9bc64d7fba1",
   "metadata": {},
   "outputs": [],
   "source": [
    "<!DOCTYPE html>\n",
    "<html>\n",
    "<head>\n",
    "    <title>Hello world</title>\n",
    "</head>\n",
    "<body>\n",
    "    <h1>Header<h1>\n",
    "    <p>Paragraph<p>\n",
    "    <div>\n",
    "        <p>Nested paragraph</p>\n",
    "    </div>\n",
    "</body>\n",
    "</html>\n",
    " function test()\n",
    "{\n",
    "  var a = 1\n",
    "  console.log(;\n",
    "}\n",
    "\n",
    "\n",
    "body {\n",
    "    color: red\n",
    "    font-size: 16px;\n",
    "}\n",
    "\n",
    "\n",
    "<!DOCTYPE html>\n",
    "<html>\n",
    "<head>\n",
    "    <title> Hello world </title>\n",
    "</head>\n",
    "<body>\n",
    "    <h1>Header<h1>\n",
    "    <p>Paragraph<p>\n",
    "    <a href=\"https://example.com\">Click here</a> \n",
    "    <div>\n",
    "        <p>Nested paragraph</p>\n",
    "    </div>\n",
    "</body>\n",
    "</html>\n"
   ]
  }
 ],
 "metadata": {
  "kernelspec": {
   "display_name": "Python 3 (ipykernel)",
   "language": "python",
   "name": "python3"
  },
  "language_info": {
   "codemirror_mode": {
    "name": "ipython",
    "version": 3
   },
   "file_extension": ".py",
   "mimetype": "text/x-python",
   "name": "python",
   "nbconvert_exporter": "python",
   "pygments_lexer": "ipython3",
   "version": "3.12.4"
  }
 },
 "nbformat": 4,
 "nbformat_minor": 5
}
