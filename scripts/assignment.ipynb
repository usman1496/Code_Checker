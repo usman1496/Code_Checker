{
 "cells": [
  {
   "cell_type": "markdown",
   "id": "adc1a41d",
   "metadata": {},
   "source": [
    "# HTML and CSS Assignment\n",
    "\n",
    "Welcome to your HTML and CSS assignment! Please complete the following tasks:\n",
    "\n",
    "1. Create a simple HTML page with a heading, paragraph, and a link.\n",
    "2. Style the page using CSS to change the background color, text color, and font.\n",
    "\n",
    "Once you're done, run the linter to check for errors or suggestions.\n"
   ]
  },
  {
   "cell_type": "markdown",
   "id": "34f2ee98",
   "metadata": {},
   "source": [
    "## Task 1: Create HTML Structure\n",
    "\n",
    "Write the HTML code for a simple webpage. It should include the following elements:\n",
    "\n",
    "- A heading (e.g., `<h1>Welcome to My Page</h1>`)\n",
    "- A paragraph (e.g., `<p>This is a paragraph of text on my webpage.</p>`)\n",
    "- A link (e.g., `<a href=\"https://example.com\">Click here</a>`)\n",
    "\n",
    "You can write your HTML code in the cell below.\n"
   ]
  },
  {
   "cell_type": "code",
   "execution_count": null,
   "id": "ec094e7e",
   "metadata": {},
   "outputs": [],
   "source": [
    "<!DOCTYPE html>\n",
    "<html>\n",
    "<head>\n",
    "    <title> Hello world </title>\n",
    "</head>\n",
    "<body>\n",
    "    <h1>Header</h1>\n",
    "    <p>Paragraph<p>\n",
    "    <a href=\"https://example.com\">Click here</a> \n",
    "    <div>\n",
    "        <p>Nested paragraph</p>\n",
    "    </div>\n",
    "</body>\n",
    "</html>\n"
   ]
  },
  {
   "cell_type": "markdown",
   "id": "9f057579",
   "metadata": {},
   "source": [
    "## Task 2: Add CSS Styling\n",
    "\n",
    "Write the CSS code to style your HTML page. Your CSS should do the following:\n",
    "\n",
    "- Change the background color of the page.\n",
    "- Change the text color of the heading.\n",
    "- Apply a different font to the paragraph.\n",
    "\n",
    "You can write your CSS code in the cell below.\n"
   ]
  },
  {
   "cell_type": "code",
   "execution_count": null,
   "id": "47e3282e",
   "metadata": {},
   "outputs": [],
   "source": [
    "/* Write your CSS code here */\n",
    "body {\n",
    "    color: red\n",
    "    font-size: 16px;\n",
    "}"
   ]
  }
 ],
 "metadata": {
  "kernelspec": {
   "display_name": "Python 3 (ipykernel)",
   "language": "python",
   "name": "python3"
  },
  "language_info": {
   "codemirror_mode": {
    "name": "ipython",
    "version": 3
   },
   "file_extension": ".py",
   "mimetype": "text/x-python",
   "name": "python",
   "nbconvert_exporter": "python",
   "pygments_lexer": "ipython3",
   "version": "3.12.4"
  }
 },
 "nbformat": 4,
 "nbformat_minor": 5
}
