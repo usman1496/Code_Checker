{
 "cells": [
  {
   "cell_type": "markdown",
   "id": "5add8bae-82e2-4187-846f-1bd025a7cc4c",
   "metadata": {},
   "source": [
    "## Assignment: HTML Basics\n",
    "\n",
    "## Instructions\n",
    "- Write an HTML document that includes the following:\n",
    "  - A header with the title \"My First Webpage\".\n",
    "  - A paragraph describing the content of the webpage.\n",
    "  - A footer with the author's name.\n",
    "\n",
    "## Task\n",
    "Write your HTML code in the cell below:"
   ]
  },
  {
   "cell_type": "code",
   "execution_count": null,
   "id": "5b989004-24c9-4a2b-9b47-cf52e7e1dd9f",
   "metadata": {},
   "outputs": [],
   "source": []
  }
 ],
 "metadata": {
  "kernelspec": {
   "display_name": "Python 3 (ipykernel)",
   "language": "python",
   "name": "python3"
  },
  "language_info": {
   "codemirror_mode": {
    "name": "ipython",
    "version": 3
   },
   "file_extension": ".py",
   "mimetype": "text/x-python",
   "name": "python",
   "nbconvert_exporter": "python",
   "pygments_lexer": "ipython3",
   "version": "3.12.3"
  }
 },
 "nbformat": 4,
 "nbformat_minor": 5
}
