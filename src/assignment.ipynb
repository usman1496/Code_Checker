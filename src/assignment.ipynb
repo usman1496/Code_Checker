{
 "cells": [
  {
   "cell_type": "markdown",
   "id": "ee173e2b",
   "metadata": {},
   "source": [
    "# HTML and CSS Assignment\n",
    "\n",
    "Welcome to your HTML and CSS assignment! Please complete the following tasks:\n",
    "\n",
    "1. Create a simple HTML page with a heading, paragraph, and a link.\n",
    "2. Style the page using CSS to change the background color, text color, and font.\n",
    "\n",
    "Once you're done, run the linter to check for errors or suggestions.\n"
   ]
  },
  {
   "cell_type": "markdown",
   "id": "5bbc69b8",
   "metadata": {},
   "source": [
    "## Task 1: Create HTML Structure\n",
    "\n",
    "**Example Layout:**\n",
    "\n",
    "<div style=\"text-align: center; margin-bottom: 20px;\">\n",
    "    <img src=\"Task.png\" alt=\"Example Image\" style=\"width: 850px; height: 500px;\">\n",
    "</div>\n",
    "\n",
    "**Requirements:**\n",
    "\n",
    "**1. Syntactic correctness:**  \n",
    "The solution must contain syntactically correct and well-formed HTML source code. Tags must be correctly written. Opening and closing tags must match. Complex elements such as lists and tables must be nested correctly. Attribute values ​​must be enclosed in quotation marks.\n",
    "\n",
    "**2. Content areas in the page structure:**  \n",
    "The HTML document must contain the 5 content areas for header navigation, content, news, and footer in the area, which are shown in the scribble of the page structure and are assigned an ordinal number. The semantically appropriate structuring elements introduced in HTML5 (e.g., `<header>`, `<nav>`, `<main>`, `<footer>`) must be used. The sequence of the elements must correspond to the ordinal numbers given.\n",
    "\n",
    "**3. Complex navigation bar:**  \n",
    "The navigation area must contain exactly one nested list of hyperlinks, i.e., navigation entries with submenus must contain a list within a list item. For correct display, use the following class attributes:\n",
    "- `dropdown`: for each list item that contains a submenu\n",
    "- `dropdown-menu`: for each list describing a submenu\n",
    "\n",
    "**4. Using the card metaphor in the main content area:**  \n",
    "The main content area must contain a section that holds all card content. A grouping element should be used for this. Suitable elements must be used for each card content. For correct display, use the following class attributes:\n",
    "- `card`: for the grouping element that holds all card contents\n",
    "- `card-header`: for the element perceived as a card title, e.g., a heading element\n",
    "- `card-body`: for the element perceived as card text, e.g., a paragraph\n",
    "- `card-footer`: for the element perceived as the card footer, e.g., a paragraph\n",
    "- `card-image`: for the image element on the card\n",
    "\n",
    "You can write your HTML code in the cell below.\n"
   ]
  },
  {
   "cell_type": "code",
   "execution_count": null,
   "id": "415b579a",
   "metadata": {},
   "outputs": [
    {
     "data": {
      "text/html": [
       "<pre><b style='font-size: 20px;'>Results Summary</b><hr>\n",
       "<b style='font-size: 20px;'>Results Summary</b><hr><b style='color: red; font-size: 16px;'>HTML Structural Errors:</b><br><span style='color: red; margin-left: 20px;'>- </span><br><span style='color: red; margin-left: 20px;'>- line 2 column 1 - Warning: inserting missing 'title' element</span><br><b style='color: red; font-size: 16px;'>Custom Errors:</b><br><span style='color: red; margin-left: 20px;'>- Line 23: No elements found: card_has_footer - The card section must contain a footer.</span><br><span style='color: red; margin-left: 20px;'>- Line 23: No elements found: card_has_image - The card section should contain an image. Use the <img> element or a <figure> element containing the image.</span><br><span style='color: red; margin-left: 20px;'>- Line 5: No elements found: test_records_requirement_02_header - Position 1 should contain an element that describes a header. Use the <header> element in HTML5.</span><br><b style='color: green; font-size: 16px;'>Passes:</b><br><span style='color: green; margin-left: 20px;'>- card_has_body - Passed: Passed</span><br><span style='color: green; margin-left: 20px;'>- card_has_header - Passed: Passed</span><br><span style='color: green; margin-left: 20px;'>- test_records_requirement_04 - Passed: Passed</span><br><span style='color: green; margin-left: 20px;'>- dropdown_contains_menu - Passed: Passed</span><br><span style='color: green; margin-left: 20px;'>- nav_contains_dropdown - Passed: Passed</span><br><span style='color: green; margin-left: 20px;'>- nav_list_contains_li_only - Passed: Passed</span><br><span style='color: green; margin-left: 20px;'>- dropdown_has_links - Passed: Passed</span><br><span style='color: green; margin-left: 20px;'>- nav_li_has_link - Passed: Passed</span><br><span style='color: green; margin-left: 20px;'>- test_records_requirement_03 - Passed: Passed</span><br><span style='color: green; margin-left: 20px;'>- test_records_requirement_02_footer - Passed: Passed</span><br><span style='color: green; margin-left: 20px;'>- test_records_requirement_02_aside - Passed: Passed</span><br><span style='color: green; margin-left: 20px;'>- test_records_requirement_02_main - Passed: Passed</span><br><span style='color: green; margin-left: 20px;'>- test_records_requirement_02_nav - Passed: Passed</span><br>\n",
       "</pre>"
      ]
     },
     "execution_count": null,
     "metadata": {},
     "output_type": "execute_result"
    },
    {
     "data": {
      "text/html": [
       "<pre><b>Linting Results Summary</b><br><hr><br><b style='color: red;'>Tidy Errors:</b><br><span style='color: red;'>  - line 2 column 1 - Warning: inserting missing 'title' element</span><br><b style='color: red;'>Custom Errors:</b><br><span style='color: red;'>  - Line Unknown: No elements found: test_records_requirement_02 - Position 1 should contain an element that describes a header. Use the <header> element in HTML5.</span><br><span style='color: red;'>  - Line Unknown: No elements found: card_has_footer - The card section must contain a footer.</span><br><b style='color: green;'>Passes:</b><br><span style='color: green;'>  - test_records_requirement_03 - Passed</span><br><span style='color: green;'>  - test_records_requirement_04 - Passed</span><br><span style='color: green;'>  - nav_li_has_link - Passed</span><br><span style='color: green;'>  - dropdown_has_links - Passed</span>\n",
       "</pre>"
      ]
     },
     "execution_count": null,
     "metadata": {},
     "output_type": "execute_result"
    },
    {
     "data": {
      "text/html": [
       "<pre><b>Linting Results Summary</b><br><hr><br><b style='color: red;'>Custom Errors:</b><br><span style='color: red;'>  - Line Unknown: No elements found: test_records_requirement_02 - Position 1 should contain an element that describes a header. Use the <header> element in HTML5.</span><br><span style='color: red;'>  - Line Unknown: No elements found: card_has_footer - The card section must contain a footer.</span><br><b style='color: green;'>Passes:</b><br><span style='color: green;'>  - test_records_requirement_03 - Passed</span><br><span style='color: green;'>  - test_records_requirement_04 - Passed</span><br><span style='color: green;'>  - nav_li_has_link - Passed</span><br><span style='color: green;'>  - dropdown_has_links - Passed</span>\n",
       "</pre>"
      ]
     },
     "execution_count": null,
     "metadata": {},
     "output_type": "execute_result"
    },
    {
     "data": {
      "text/html": [
       "<pre><b style='font-size: 20px;'>Results Summary</b><br><hr>\n",
       "<b style='font-size: 20px;'>Results Summary</b><br><hr><br><b style='color: red; font-size: 16px;'>HTML Errors:</b><br><span style='color: red; margin-left: 20px;'>  - No HTML output produced.</span><br><b style='color: red; font-size: 16px;'>Custom Errors:</b><br><span style='color: red; margin-left: 20px;'>  - Line 5: No elements found: test_records_requirement_02_header - Position 1 should contain an element that describes a header. Use the <header> element in HTML5.</span><br><span style='color: red; margin-left: 20px;'>  - Line 5: No elements found: test_records_requirement_02_nav - Position 2 should contain an element that describes a navigation area. Use the <nav> element in HTML5.</span><br><span style='color: red; margin-left: 20px;'>  - Line 5: No elements found: test_records_requirement_02_main - Position 3 should contain an element that describes the main content area. Use the <main> element in HTML5.</span><br><span style='color: red; margin-left: 20px;'>  - Line 5: No elements found: test_records_requirement_02_aside - Position 4 should contain an element that describes a complementary content area. Use the <aside> element in HTML5.</span><br><span style='color: red; margin-left: 20px;'>  - Line 5: No elements found: test_records_requirement_02_footer - Position 5 should contain an element that describes a footer. Use the <footer> element in HTML5.</span><br><span style='color: red; margin-left: 20px;'>  - Line Unknown: No elements found: test_records_requirement_03 - The navigation area should contain exactly one list. This can be an unordered or ordered list.</span><br><span style='color: red; margin-left: 20px;'>  - Line Unknown: No elements found: nav_li_has_link - Each <li> within <nav> should contain an <a> link.</span><br><span style='color: red; margin-left: 20px;'>  - Line Unknown: No elements found: dropdown_has_links - Each dropdown menu item should contain a link.</span><br><span style='color: red; margin-left: 20px;'>  - Line Unknown: No elements found: nav_list_contains_li_only - Lists in the navigation area should only contain list items. Ensure that the list in the navigation contains exactly 7 list items.</span><br><span style='color: red; margin-left: 20px;'>  - Line Unknown: No elements found: nav_contains_dropdown - The navigation area should contain exactly one dropdown item with the class 'dropdown'.</span><br><span style='color: red; margin-left: 20px;'>  - Line Unknown: No elements found: dropdown_contains_menu - The dropdown item should contain exactly one dropdown menu with the class 'dropdown-menu'.</span><br><span style='color: red; margin-left: 20px;'>  - Line Unknown: No elements found: test_records_requirement_04 - The section acting as a card must have the appropriate class attribute value. It should not be a Header, Nav, Main, Aside, or Footer.</span><br><span style='color: red; margin-left: 20px;'>  - Line Unknown: No elements found: card_has_footer - The card section must contain a footer.</span><br><span style='color: red; margin-left: 20px;'>  - Line Unknown: No elements found: card_has_header - The card section must contain a header. Consider using a heading element or a header element.</span><br><span style='color: red; margin-left: 20px;'>  - Line Unknown: No elements found: card_has_body - The card section must contain a body. Use a paragraph or div element.</span><br><span style='color: red; margin-left: 20px;'>  - Line Unknown: No elements found: card_has_image - The card section should contain an image. Use the <img> element or a <figure> element containing the image.</span><br><b style='color: red; font-size: 16px;'>No Passes</b>\n",
       "</pre>"
      ]
     },
     "execution_count": null,
     "metadata": {},
     "output_type": "execute_result"
    }
   ],
   "source": [
    "<!DOCTYPE html>\n",
    "<head>  \n",
    "   <\n",
    "</head>\n",
    "<body>\n",
    "   \n",
    "    <nav>\n",
    "        <ul>\n",
    "            <li><a href=\"#\">Home</a></li>\n",
    "            <li><a href=\"#\">About</a></li>\n",
    "            <li class=\"dropdown\">\n",
    "                <a href=\"#\">Services</a>\n",
    "                <ul class=\"dropdown-menu\">\n",
    "                    <li><a href=\"#\">Consulting</a></li>\n",
    "                    <li><a href=\"#\">Development</a></li>\n",
    "                    <li><a href=\"#\">Support</a></li>\n",
    "                </ul>\n",
    "            </li>\n",
    "            <li><a href=\"#\">Contact</a></li>\n",
    "        </ul>\n",
    "    </nav>\n",
    "    <main>\n",
    "        <section class=\"card\">\n",
    "            <div class=\"card-header\">Card Header</div>\n",
    "            <div class=\"card-body\">Card Body</div>\n",
    "          \n",
    "        </section>\n",
    "    </main>\n",
    "    <aside>\n",
    "        <p>Additional information</p>\n",
    "    </aside>\n",
    "    <footer>\n",
    "        <p>Footer Content</p>\n",
    "    </footer>\n",
    "</body>\n",
    "</html>\n"
   ]
  },
  {
   "cell_type": "markdown",
   "id": "7611f696",
   "metadata": {},
   "source": [
    "## Task 2: Add CSS Styling\n",
    "\n",
    "Write the CSS code to style your HTML page. Your CSS should do the following:\n",
    "\n",
    "- Change the background color of the page.\n",
    "- Change the text color of the heading.\n",
    "- Apply a different font to the paragraph.\n",
    "\n",
    "You can write your CSS code in the cell below.\n"
   ]
  },
  {
   "cell_type": "code",
   "execution_count": null,
   "id": "0c53f70c",
   "metadata": {},
   "outputs": [
    {
     "data": {
      "text/html": [
       "<pre><b>Linting Results Summary</b><br><hr><br><b style='color: red;'>Custom Errors:</b><br><span style='color: red;'>  - Missing selector: .important</span><br><span style='color: red;'>  - Media query '@media screen and (min-width: 600px)' must contain '.important' selector.</span><br><b style='color: red;'>CSS Errors:</b><br><span style='color: red;'>  - [{\"source\":\"C:\\\\Users\\\\musma\\\\Desktop\\\\Extension\\\\src\\\\temp.css\",\"deprecations\":[],\"invalidOptionWarnings\":[],\"parseErrors\":[],\"errored\":true,\"warnings\":[{\"line\":2,\"column\":15,\"rule\":\"CssSyntaxError\",\"severity\":\"error\",\"text\":\"Missed semicolon (CssSyntaxError)\"}]}]</span><br><b>No Passes</b>\n",
       "</pre>"
      ]
     },
     "execution_count": null,
     "metadata": {},
     "output_type": "execute_result"
    },
    {
     "data": {
      "text/html": [
       "<pre><b>Linting Results Summary</b><br><hr><br><b>No Custom Errors</b><br><b style='color: red;'>JS Errors:</b><br><span style='color: red;'>  - \u001b[31mERROR\u001b[0m: Can't load reporter file: C:\\Users\\musma\\Desktop\\Extension\\src\\json</span><br><b>No Passes</b>\n",
       "</pre>"
      ]
     },
     "execution_count": null,
     "metadata": {},
     "output_type": "execute_result"
    },
    {
     "data": {
      "text/html": [
       "<pre><b>Linting Results Summary</b><br><hr><br><b>No Custom Errors</b><br><b style='color: red;'>JS Errors:</b><br><span style='color: red;'>  - \u001b[31mERROR\u001b[0m: Can't load reporter file: C:\\Users\\musma\\Desktop\\Extension\\src\\json</span><br><b>No Passes</b>\n",
       "</pre>"
      ]
     },
     "execution_count": null,
     "metadata": {},
     "output_type": "execute_result"
    },
    {
     "data": {
      "text/html": [
       "<pre>Executing command: \"C:\\Users\\musma\\AppData\\Roaming\\npm\\jshint.cmd\" temp.js\n",
       "</pre>"
      ]
     },
     "execution_count": null,
     "metadata": {},
     "output_type": "execute_result"
    },
    {
     "data": {
      "text/html": [
       "<pre><b>Linting Results Summary</b><br><hr><br><b>No Custom Errors</b><br><b style='color: red;'>JS Errors:</b><br><span style='color: red;'>  - temp.js: line 3, col 12, Missing semicolon.\n",
       "temp.js: line 4, col 15, Expected an identifier and instead saw ';'.\n",
       "temp.js: line 5, col 1, Expected ')' and instead saw '}'.\n",
       "temp.js: line 5, col 2, Missing semicolon.\n",
       "temp.js: line 2, col 1, Unmatched '{'.\n",
       "temp.js: line 5, col 1, Unrecoverable syntax error. (100% scanned).\n",
       "\n",
       "6 errors\n",
       "</span><br><b>No Passes</b>\n",
       "</pre>"
      ]
     },
     "execution_count": null,
     "metadata": {},
     "output_type": "execute_result"
    }
   ],
   "source": [
    " function test()\n",
    "{\n",
    "  var a = 1\n",
    "  console.log(;\n",
    "}"
   ]
  },
  {
   "cell_type": "code",
   "execution_count": null,
   "id": "36560902-1150-4fd3-8e75-5f4459155441",
   "metadata": {},
   "outputs": [],
   "source": []
  }
 ],
 "metadata": {
  "kernelspec": {
   "display_name": "Python 3 (ipykernel)",
   "language": "python",
   "name": "python3"
  },
  "language_info": {
   "codemirror_mode": {
    "name": "ipython",
    "version": 3
   },
   "file_extension": ".py",
   "mimetype": "text/x-python",
   "name": "python",
   "nbconvert_exporter": "python",
   "pygments_lexer": "ipython3",
   "version": "3.11.7"
  }
 },
 "nbformat": 4,
 "nbformat_minor": 5
}
