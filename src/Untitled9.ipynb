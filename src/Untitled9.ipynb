{
 "cells": [
  {
   "cell_type": "code",
   "execution_count": null,
   "id": "6bfbc322-9696-4a8c-aa60-9b4eadaedd26",
   "metadata": {},
   "outputs": [
    {
     "data": {
      "text/html": [
       "<pre><b style='font-size: 20px;'>Results Summary</b><hr>\n",
       "<b style='font-size: 20px;'>Results Summary</b><hr><b style='color: red; font-size: 16px;'>HTML Structural Errors:</b><br><span style='color: red; margin-left: 20px;'>- No HTML Structural Errors Found.</span><br><b style='color: red; font-size: 16px;'>Custom Errors:</b><br><span style='color: red; margin-left: 20px;'>- Line 5: No elements found: test_records_requirement_02_header - Position 1 should contain an element that describes a header. Use the <header> element in HTML5.</span><br><span style='color: red; margin-left: 20px;'>- Line 22: No elements found: card_has_footer - The card section must contain a footer.</span><br><span style='color: red; margin-left: 20px;'>- Line 22: No elements found: card_has_image - The card section should contain an image. Use the <img> element or a <figure> element containing the image.</span><br><b style='color: green; font-size: 16px;'>Passes:</b><br><span style='color: green; margin-left: 20px;'>- card_has_body - Passed: Passed</span><br><span style='color: green; margin-left: 20px;'>- card_has_header - Passed: Passed</span><br><span style='color: green; margin-left: 20px;'>- test_records_requirement_04 - Passed: Passed</span><br><span style='color: green; margin-left: 20px;'>- dropdown_contains_menu - Passed: Passed</span><br><span style='color: green; margin-left: 20px;'>- nav_contains_dropdown - Passed: Passed</span><br><span style='color: green; margin-left: 20px;'>- nav_list_contains_li_only - Passed: Passed</span><br><span style='color: green; margin-left: 20px;'>- dropdown_has_links - Passed: Passed</span><br><span style='color: green; margin-left: 20px;'>- nav_li_has_link - Passed: Passed</span><br><span style='color: green; margin-left: 20px;'>- test_records_requirement_03 - Passed: Passed</span><br><span style='color: green; margin-left: 20px;'>- test_records_requirement_02_footer - Passed: Passed</span><br><span style='color: green; margin-left: 20px;'>- test_records_requirement_02_aside - Passed: Passed</span><br><span style='color: green; margin-left: 20px;'>- test_records_requirement_02_main - Passed: Passed</span><br><span style='color: green; margin-left: 20px;'>- test_records_requirement_02_nav - Passed: Passed</span><br>\n",
       "</pre>"
      ]
     },
     "execution_count": null,
     "metadata": {},
     "output_type": "execute_result"
    },
    {
     "data": {
      "text/html": [
       "<pre><b style='font-size: 20px;'>Results Summary</b><hr>\n",
       "<b style='font-size: 20px;'>Results Summary</b><hr><b style='color: red; font-size: 16px;'>HTML Structural Errors:</b><br><span style='color: red; margin-left: 20px;'>- line 5 column 1 - Warning: discarding unexpected <body></span><br><span style='color: red; margin-left: 20px;'>- line 4 column 1 - Warning: discarding unexpected </head></span><br><span style='color: red; margin-left: 20px;'>- line 3 column 4 - Warning: plain text isn't allowed in <head> elements</span><br><span style='color: red; margin-left: 20px;'>- line 3 column 4 - Warning: inserting implicit <body></span><br><span style='color: red; margin-left: 20px;'>- line 2 column 1 - Warning: inserting missing 'title' element</span><br><b style='color: red; font-size: 16px;'>Custom Errors:</b><br><span style='color: red; margin-left: 20px;'>- Line 5: No elements found: test_records_requirement_02_header - Position 1 should contain an element that describes a header. Use the <header> element in HTML5.</span><br><span style='color: red; margin-left: 20px;'>- Line 23: No elements found: card_has_footer - The card section must contain a footer.</span><br><span style='color: red; margin-left: 20px;'>- Line 23: No elements found: card_has_image - The card section should contain an image. Use the <img> element or a <figure> element containing the image.</span><br><b style='color: green; font-size: 16px;'>Passes:</b><br><span style='color: green; margin-left: 20px;'>- card_has_body - Passed: Passed</span><br><span style='color: green; margin-left: 20px;'>- card_has_header - Passed: Passed</span><br><span style='color: green; margin-left: 20px;'>- test_records_requirement_04 - Passed: Passed</span><br><span style='color: green; margin-left: 20px;'>- dropdown_contains_menu - Passed: Passed</span><br><span style='color: green; margin-left: 20px;'>- nav_contains_dropdown - Passed: Passed</span><br><span style='color: green; margin-left: 20px;'>- nav_list_contains_li_only - Passed: Passed</span><br><span style='color: green; margin-left: 20px;'>- dropdown_has_links - Passed: Passed</span><br><span style='color: green; margin-left: 20px;'>- nav_li_has_link - Passed: Passed</span><br><span style='color: green; margin-left: 20px;'>- test_records_requirement_03 - Passed: Passed</span><br><span style='color: green; margin-left: 20px;'>- test_records_requirement_02_footer - Passed: Passed</span><br><span style='color: green; margin-left: 20px;'>- test_records_requirement_02_aside - Passed: Passed</span><br><span style='color: green; margin-left: 20px;'>- test_records_requirement_02_main - Passed: Passed</span><br><span style='color: green; margin-left: 20px;'>- test_records_requirement_02_nav - Passed: Passed</span><br>\n",
       "</pre>"
      ]
     },
     "execution_count": null,
     "metadata": {},
     "output_type": "execute_result"
    }
   ],
   "source": [
    "<!DOCTYPE html>\n",
    "<head>  \n",
    "   <title>Hello</title>\n",
    "</head>\n",
    "<body>\n",
    "    <nav>\n",
    "        <ul>\n",
    "            <li><a href=\"#\">Home</a></li>\n",
    "            <li><a href=\"#\">About</a></li>\n",
    "            <li class=\"dropdown\">\n",
    "                <a href=\"#\">Services</a>\n",
    "                <ul class=\"dropdown-menu\">\n",
    "                    <li><a href=\"#\">Consulting</a></li>\n",
    "                    <li><a href=\"#\">Development</a></li>\n",
    "                    <li><a href=\"#\">Support</a></li>\n",
    "                </ul>\n",
    "            </li>\n",
    "            <li><a href=\"#\">Contact</a></li>\n",
    "        </ul>\n",
    "    </nav>\n",
    "    <main>\n",
    "        <section class=\"card\">\n",
    "            <div class=\"card-header\">Card Header</div>\n",
    "            <div class=\"card-body\">Card Body</div>\n",
    "          \n",
    "        </section>\n",
    "    </main>\n",
    "    <aside>\n",
    "        <p>Additional information</p>\n",
    "    </aside>\n",
    "    <footer>\n",
    "        <p>Footer Content</p>\n",
    "    </footer>\n",
    "</body>\n",
    "</html>"
   ]
  }
 ],
 "metadata": {
  "kernelspec": {
   "display_name": "Python 3 (ipykernel)",
   "language": "python",
   "name": "python3"
  },
  "language_info": {
   "codemirror_mode": {
    "name": "ipython",
    "version": 3
   },
   "file_extension": ".py",
   "mimetype": "text/x-python",
   "name": "python",
   "nbconvert_exporter": "python",
   "pygments_lexer": "ipython3",
   "version": "3.11.7"
  }
 },
 "nbformat": 4,
 "nbformat_minor": 5
}
