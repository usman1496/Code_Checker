{
 "cells": [
  {
   "cell_type": "code",
   "execution_count": null,
   "id": "5c06638d-62f9-4327-8bf4-1063d01dd29a",
   "metadata": {},
   "outputs": [
    {
     "data": {
      "text/html": [
       "<pre><b style='font-size: 20px;'>Results Summary</b><br><hr>\n",
       "</pre>"
      ]
     },
     "execution_count": null,
     "metadata": {},
     "output_type": "execute_result"
    },
    {
     "data": {
      "text/html": [
       "<pre><b style='font-size: 20px;'>Results Summary</b><br><hr><br><b style='color: red; font-size: 16px;'>JS Errors:</b><br><span style='color: red; margin-left: 20px;'>  - temp.js: line 3, col 40, Missing semicolon.\n",
       "temp.js: line 7, col 40, Missing semicolon.\n",
       "\n",
       "2 errors\n",
       "</span><br><b style='color: red; font-size: 16px;'>Custom JS Errors:</b><br><span style='color: red; margin-left: 20px;'>  - no_console_errors_on_load - Console errors found on page load.</span><br><span style='color: red; margin-left: 20px;'>  - no_console_errors_after_interaction - Console errors found after interaction.</span><br><b style='color: green; font-size: 16px;'>JS Passes:</b><br><span style='color: green; margin-left: 20px;'>  - event_listener_registration - Passed: Passed without specific message</span><br><span style='color: green; margin-left: 20px;'>  - image_switch_on_click - Passed: Passed without specific message</span><br><span style='color: green; margin-left: 20px;'>  - image_revert_on_double_click - Passed: Passed without specific message</span>\n",
       "</pre>"
      ]
     },
     "execution_count": null,
     "metadata": {},
     "output_type": "execute_result"
    }
   ],
   "source": [
    "document.querySelectorAll('.switch-image').forEach(function(imageElement) {\n",
    "    imageElement.addEventListener('click', function() {\n",
    "        imageElement.src = 'image2.jpg'\n",
    "    });\n",
    "\n",
    "    imageElement.addEventListener('dblclick', function() {\n",
    "        imageElement.src = 'image1.jpg'\n",
    "    });\n",
    "});\n",
    "\n",
    "// Trigger a console error to test error handling rules\n",
    "console.error('This is a test error');"
   ]
  },
  {
   "cell_type": "code",
   "execution_count": null,
   "id": "ae81e09f-1b5a-4061-91b7-67428e021fe9",
   "metadata": {},
   "outputs": [
    {
     "data": {
      "text/html": [
       "<pre><b style='font-size: 20px;'>Results Summary</b><br><hr>\n",
       "<b style='font-size: 20px;'>Results Summary</b><br><hr><br><b style='color: red; font-size: 16px;'>HTML Errors:</b><br><span style='color: red; margin-left: 20px;'>  - No HTML output produced.</span><br><b style='color: red; font-size: 16px;'>Custom Errors:</b><br><span style='color: red; margin-left: 20px;'>  - Line 5: No elements found: test_records_requirement_02_header - Position 1 should contain an element that describes a header. Use the <header> element in HTML5.</span><br><span style='color: red; margin-left: 20px;'>  - Line 23: No elements found: card_has_footer - The card section must contain a footer.</span><br><span style='color: red; margin-left: 20px;'>  - Line 23: No elements found: card_has_image - The card section should contain an image. Use the <img> element or a <figure> element containing the image.</span><br><b style='color: green; font-size: 16px;'>Passes:</b><br><span style='color: green; margin-left: 20px;'>  - test_records_requirement_02_nav - Passed: Passed without specific message</span><br><span style='color: green; margin-left: 20px;'>  - test_records_requirement_02_main - Passed: Passed without specific message</span><br><span style='color: green; margin-left: 20px;'>  - test_records_requirement_02_aside - Passed: Passed without specific message</span><br><span style='color: green; margin-left: 20px;'>  - test_records_requirement_02_footer - Passed: Passed without specific message</span><br><span style='color: green; margin-left: 20px;'>  - test_records_requirement_03 - Passed: Passed without specific message</span><br><span style='color: green; margin-left: 20px;'>  - nav_li_has_link - Passed: Passed without specific message</span><br><span style='color: green; margin-left: 20px;'>  - dropdown_has_links - Passed: Passed without specific message</span><br><span style='color: green; margin-left: 20px;'>  - nav_list_contains_li_only - Passed: Passed without specific message</span><br><span style='color: green; margin-left: 20px;'>  - nav_contains_dropdown - Passed: Passed without specific message</span><br><span style='color: green; margin-left: 20px;'>  - dropdown_contains_menu - Passed: Passed without specific message</span><br><span style='color: green; margin-left: 20px;'>  - test_records_requirement_04 - Passed: Passed without specific message</span><br><span style='color: green; margin-left: 20px;'>  - card_has_header - Passed: Passed without specific message</span><br><span style='color: green; margin-left: 20px;'>  - card_has_body - Passed: Passed without specific message</span>\n",
       "</pre>"
      ]
     },
     "execution_count": null,
     "metadata": {},
     "output_type": "execute_result"
    }
   ],
   "source": [
    "<!DOCTYPE html>\n",
    "<head>  \n",
    "    <title>Hi</title>\n",
    "</head>\n",
    "<body>\n",
    "    \n",
    "    <nav>\n",
    "        <ul>\n",
    "            <li><a href=\"#\">Home</a></li>\n",
    "            <li><a href=\"#\">About</a></li>\n",
    "            <li class=\"dropdown\">\n",
    "                <a href=\"#\">Services</a>\n",
    "                <ul class=\"dropdown-menu\">\n",
    "                    <li><a href=\"#\">Consulting</a></li>\n",
    "                    <li><a href=\"#\">Development</a></li>\n",
    "                    <li><a href=\"#\">Support</a></li>\n",
    "                </ul>\n",
    "            </li>\n",
    "            <li><a href=\"#\">Contact</a></li>\n",
    "        </ul>\n",
    "    </nav>\n",
    "    <main>\n",
    "        <section class=\"card\">\n",
    "            <div class=\"card-header\">Card Header</div>\n",
    "            <div class=\"card-body\">Card Body</div>\n",
    "          \n",
    "        </section>\n",
    "    </main>\n",
    "    <aside>\n",
    "        <p>Additional information</p>\n",
    "    </aside>\n",
    "    <footer>\n",
    "        <p>Footer Content</p>\n",
    "    </footer>\n",
    "</body>\n",
    "</html>"
   ]
  },
  {
   "cell_type": "code",
   "execution_count": null,
   "id": "c4ed0b27-b93a-4d57-9502-7e0f0604f8b4",
   "metadata": {},
   "outputs": [
    {
     "data": {
      "text/html": [
       "<pre><b style='font-size: 20px;'>Results Summary</b><br><hr>\n",
       "</pre>"
      ]
     },
     "execution_count": null,
     "metadata": {},
     "output_type": "execute_result"
    },
    {
     "data": {
      "text/html": [
       "<pre><b style='font-size: 20px;'>Results Summary</b><br><hr><br><b style='color: red; font-size: 16px;'>CSS Errors:</b><br><span style='color: red; margin-left: 20px;'>  - Command failed with error: [{\"source\":\"C:\\\\Users\\\\musma\\\\Desktop\\\\Extension\\\\src\\\\temp.css\",\"deprecations\":[],\"invalidOptionWarnings\":[],\"parseErrors\":[],\"errored\":true,\"warnings\":[{\"line\":2,\"column\":27,\"rule\":\"CssSyntaxError\",\"severity\":\"error\",\"text\":\"Missed semicolon (CssSyntaxError)\"}]}]</span><br><b style='color: red; font-size: 16px;'>Custom CSS Errors:</b><br><span style='color: red; margin-left: 20px;'>  - Line 27: The '.important' class must have a 'color' property. Missing properties: color</span><br><span style='color: red; margin-left: 20px;'>  - Media query '@media screen and (min-width: 600px)' must contain '.important' selector.</span><br><span style='color: red; margin-left: 20px;'>  - Missing selector: *</span><br><b style='color: green; font-size: 16px;'>CSS Passes:</b><br><span style='color: green; margin-left: 20px;'>  - max_specificity - Passed: Passed without specific message</span>\n",
       "</pre>"
      ]
     },
     "execution_count": null,
     "metadata": {},
     "output_type": "execute_result"
    }
   ],
   "source": [
    "body {\n",
    "    background-color: #fff\n",
    "    font-family: Arial, sans-serif;\n",
    "}\n",
    "\n",
    ".header {\n",
    "    padding: 10px;\n",
    "    background-color: #333;\n",
    "    color: white;\n",
    "}\n",
    "\n",
    ".card {\n",
    "    border: 1px solid #ccc;\n",
    "    padding: 15px;\n",
    "    margin: 10px;\n",
    "}\n",
    "\n",
    ".card-title {\n",
    "    font-size: 18px;\n",
    "    font-weight: bold\n",
    "}\n",
    "\n",
    ".card-footer {\n",
    "    text-align: right;\n",
    "    padding-top: 10px;\n",
    "}\n",
    ".important {\n",
    "    /* Styles for .important */\n",
    "}"
   ]
  }
 ],
 "metadata": {
  "kernelspec": {
   "display_name": "Python 3 (ipykernel)",
   "language": "python",
   "name": "python3"
  },
  "language_info": {
   "codemirror_mode": {
    "name": "ipython",
    "version": 3
   },
   "file_extension": ".py",
   "mimetype": "text/x-python",
   "name": "python",
   "nbconvert_exporter": "python",
   "pygments_lexer": "ipython3",
   "version": "3.11.7"
  }
 },
 "nbformat": 4,
 "nbformat_minor": 5
}
