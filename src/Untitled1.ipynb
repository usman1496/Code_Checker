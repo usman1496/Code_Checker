{
 "cells": [
  {
   "cell_type": "code",
   "execution_count": null,
   "id": "7ac6d71c-4e8b-44e3-a5c0-7f3a30da7662",
   "metadata": {},
   "outputs": [
    {
     "data": {
      "text/html": [
       "<pre><b style='font-size: 20px;'>Results Summary</b><hr>\n",
       "<b style='font-size: 20px;'>Results Summary</b><hr><b style='color: red; font-size: 16px;'>HTML Structural Errors:</b><br><span style='color: red; margin-left: 20px;'>- line 2 column 1 - Warning: inserting missing 'title' element</span><br><b style='color: red; font-size: 16px;'>Custom Errors:</b><br><span style='color: red; margin-left: 20px;'>- Line 23: No elements found: card_has_footer - The card section must contain a footer.</span><br><span style='color: red; margin-left: 20px;'>- Line 23: No elements found: card_has_image - The card section should contain an image. Use the <img> element or a <figure> element containing the image.</span><br><span style='color: red; margin-left: 20px;'>- Line 5: No elements found: test_records_requirement_02_header - Position 1 should contain an element that describes a header. Use the <header> element in HTML5.</span><br><b style='color: green; font-size: 16px;'>Passes:</b><br><span style='color: green; margin-left: 20px;'>- card_has_body - Passed: Passed</span><br><span style='color: green; margin-left: 20px;'>- card_has_header - Passed: Passed</span><br><span style='color: green; margin-left: 20px;'>- test_records_requirement_04 - Passed: Passed</span><br><span style='color: green; margin-left: 20px;'>- dropdown_contains_menu - Passed: Passed</span><br><span style='color: green; margin-left: 20px;'>- nav_contains_dropdown - Passed: Passed</span><br><span style='color: green; margin-left: 20px;'>- nav_list_contains_li_only - Passed: Passed</span><br><span style='color: green; margin-left: 20px;'>- dropdown_has_links - Passed: Passed</span><br><span style='color: green; margin-left: 20px;'>- nav_li_has_link - Passed: Passed</span><br><span style='color: green; margin-left: 20px;'>- test_records_requirement_03 - Passed: Passed</span><br><span style='color: green; margin-left: 20px;'>- test_records_requirement_02_footer - Passed: Passed</span><br><span style='color: green; margin-left: 20px;'>- test_records_requirement_02_aside - Passed: Passed</span><br><span style='color: green; margin-left: 20px;'>- test_records_requirement_02_main - Passed: Passed</span><br><span style='color: green; margin-left: 20px;'>- test_records_requirement_02_nav - Passed: Passed</span><br>\n",
       "</pre>"
      ]
     },
     "execution_count": null,
     "metadata": {},
     "output_type": "execute_result"
    },
    {
     "data": {
      "text/html": [
       "<pre><b style='font-size: 20px;'>Results Summary</b><hr>\n",
       "<b style='font-size: 20px;'>Results Summary</b><hr><b style='color: red; font-size: 16px;'>HTML Structural Errors:</b><br><span style='color: red; margin-left: 20px;'>- line 9 column 37 - Warning: trimming empty <li></span><br><span style='color: red; margin-left: 20px;'>- line 2 column 1 - Warning: inserting missing 'title' element</span><br><b style='color: red; font-size: 16px;'>Custom Errors:</b><br><span style='color: red; margin-left: 20px;'>- Line None: nav_list_contains_li_only - Lists in the navigation area should only contain list items. Ensure that the list in the navigation contains exactly 7 list items.</span><br><span style='color: red; margin-left: 20px;'>- Line None: nav_list_contains_li_only - Lists in the navigation area should only contain list items. Ensure that the list in the navigation contains exactly 7 list items.</span><br><span style='color: red; margin-left: 20px;'>- Line None: nav_list_contains_li_only - Lists in the navigation area should only contain list items. Ensure that the list in the navigation contains exactly 7 list items.</span><br><span style='color: red; margin-left: 20px;'>- Line None: nav_list_contains_li_only - Lists in the navigation area should only contain list items. Ensure that the list in the navigation contains exactly 7 list items.</span><br><span style='color: red; margin-left: 20px;'>- Line None: nav_list_contains_li_only - Lists in the navigation area should only contain list items. Ensure that the list in the navigation contains exactly 7 list items.</span><br><span style='color: red; margin-left: 20px;'>- Line None: nav_list_contains_li_only - Lists in the navigation area should only contain list items. Ensure that the list in the navigation contains exactly 7 list items.</span><br><span style='color: red; margin-left: 20px;'>- Line None: nav_list_contains_li_only - Lists in the navigation area should only contain list items. Ensure that the list in the navigation contains exactly 7 list items.</span><br><span style='color: red; margin-left: 20px;'>- Line None: nav_list_contains_li_only - Lists in the navigation area should only contain list items. Ensure that the list in the navigation contains exactly 7 list items.</span><br><span style='color: red; margin-left: 20px;'>- Line 23: No elements found: card_has_footer - The card section must contain a footer.</span><br><span style='color: red; margin-left: 20px;'>- Line 23: No elements found: card_has_image - The card section should contain an image. Use the <img> element or a <figure> element containing the image.</span><br><span style='color: red; margin-left: 20px;'>- Line 5: No elements found: test_records_requirement_02_header - Position 1 should contain an element that describes a header. Use the <header> element in HTML5.</span><br><b style='color: green; font-size: 16px;'>Passes:</b><br><span style='color: green; margin-left: 20px;'>- card_has_body - Passed: Passed</span><br><span style='color: green; margin-left: 20px;'>- card_has_header - Passed: Passed</span><br><span style='color: green; margin-left: 20px;'>- test_records_requirement_04 - Passed: Passed</span><br><span style='color: green; margin-left: 20px;'>- dropdown_contains_menu - Passed: Passed</span><br><span style='color: green; margin-left: 20px;'>- nav_contains_dropdown - Passed: Passed</span><br><span style='color: green; margin-left: 20px;'>- dropdown_has_links - Passed: Passed</span><br><span style='color: green; margin-left: 20px;'>- nav_li_has_link - Passed: Passed</span><br><span style='color: green; margin-left: 20px;'>- test_records_requirement_03 - Passed: Passed</span><br><span style='color: green; margin-left: 20px;'>- test_records_requirement_02_footer - Passed: Passed</span><br><span style='color: green; margin-left: 20px;'>- test_records_requirement_02_aside - Passed: Passed</span><br><span style='color: green; margin-left: 20px;'>- test_records_requirement_02_main - Passed: Passed</span><br><span style='color: green; margin-left: 20px;'>- test_records_requirement_02_nav - Passed: Passed</span><br>\n",
       "</pre>"
      ]
     },
     "execution_count": null,
     "metadata": {},
     "output_type": "execute_result"
    }
   ],
   "source": [
    "<!DOCTYPE html>\n",
    "<head>  \n",
    "  \n",
    "</head>\n",
    "<body>\n",
    "   \n",
    "    <nav>\n",
    "        <ul>\n",
    "            <li><a href=\"#\">Home</a></li>\n",
    "            <li><a href=\"#\">About</a></li>\n",
    "            <li class=\"dropdown\">\n",
    "                <a href=\"#\">Services</a>\n",
    "                <ul class=\"dropdown-menu\">\n",
    "                    <li><a href=\"#\">Consulting</a></li>\n",
    "                    <li><a href=\"#\">Development</a></li>\n",
    "                    <li><a href=\"#\">Support</a></li>\n",
    "                </ul>\n",
    "            </li>\n",
    "            <li><a href=\"#\">Contact</a></li>\n",
    "        </ul>\n",
    "    </nav>\n",
    "    <main>\n",
    "        <section class=\"card\">\n",
    "            <div class=\"card-header\">Card Header</div>\n",
    "            <div class=\"card-body\">Card Body</div>\n",
    "          \n",
    "        </section>\n",
    "    </main>\n",
    "    <aside>\n",
    "        <p>Additional information</p>\n",
    "    </aside>\n",
    "    <footer>\n",
    "        <p>Footer Content</p>\n",
    "    </footer>\n",
    "</body>\n",
    "</html>"
   ]
  },
  {
   "cell_type": "code",
   "execution_count": null,
   "id": "3c7f5c44-1014-47ea-9f58-0e5293eb5d78",
   "metadata": {},
   "outputs": [
    {
     "data": {
      "text/html": [
       "<pre><b style='font-size: 20px;'>Results Summary</b><hr><b style='color: red; font-size: 16px;'>JS Errors:</b><br><span style='color: red; margin-left: 20px;'>- temp.js: line 1, col 12, Missing semicolon.\n",
       "temp.js: line 2, col 15, Expected an identifier and instead saw ';'.\n",
       "temp.js: line 3, col 1, Expected ')' and instead saw '}'.\n",
       "temp.js: line 3, col 2, Missing semicolon.\n",
       "\n",
       "4 errors\n",
       "</span><br><b style='color: green; font-size: 16px;'>No Custom JS Errors Found</b><br><b style='color: green; font-size: 16px;'>JS Passes:</b><br><span style='color: green; margin-left: 20px;'>- no_console_errors_after_interaction - Passed: P</span><br><span style='color: green; margin-left: 20px;'>- no_console_errors_on_load - Passed: P</span><br><span style='color: green; margin-left: 20px;'>- image_revert_on_double_click - Passed: P</span><br><span style='color: green; margin-left: 20px;'>- image_switch_on_click - Passed: P</span><br><span style='color: green; margin-left: 20px;'>- event_listener_registration - Passed: P</span><br>\n",
       "</pre>"
      ]
     },
     "execution_count": null,
     "metadata": {},
     "output_type": "execute_result"
    },
    {
     "data": {
      "text/html": [
       "<pre><b style='font-size: 20px;'>Results Summary</b><hr>\n",
       "</pre>"
      ]
     },
     "execution_count": null,
     "metadata": {},
     "output_type": "execute_result"
    }
   ],
   "source": [
    "  var a = 1\n",
    "  console.log(;\n",
    "}"
   ]
  },
  {
   "cell_type": "code",
   "execution_count": null,
   "id": "f29cc97c-1b97-4ee7-aab1-8408eeb6353a",
   "metadata": {},
   "outputs": [
    {
     "data": {
      "text/html": [
       "<pre><b style='font-size: 20px;'>Results Summary</b><hr><b style='color: red; font-size: 16px;'>CSS Errors:</b><br><span style='color: red; margin-left: 20px;'>- Command failed with error: [{\"source\":\"C:\\\\Users\\\\musma\\\\Desktop\\\\Extension\\\\src\\\\temp.css\",\"deprecations\":[],\"invalidOptionWarnings\":[],\"parseErrors\":[],\"errored\":true,\"warnings\":[{\"line\":2,\"column\":27,\"rule\":\"CssSyntaxError\",\"severity\":\"error\",\"text\":\"Missed semicolon (CssSyntaxError)\"}]}]</span><br><b style='color: red; font-size: 16px;'>Custom CSS Errors:</b><br><span style='color: red; margin-left: 20px;'>- Media query '@media screen and (min-width: 600px)' must contain '.important' selector.</span><br><span style='color: red; margin-left: 20px;'>- Missing selector: *</span><br><span style='color: red; margin-left: 20px;'>- Line 27: The '.important' class must have a 'color' property. Missing properties: color</span><br><b style='color: green; font-size: 16px;'>CSS Passes:</b><br><span style='color: green; margin-left: 20px;'>- max_specificity - Passed: </span><br>\n",
       "</pre>"
      ]
     },
     "execution_count": null,
     "metadata": {},
     "output_type": "execute_result"
    },
    {
     "data": {
      "text/html": [
       "<pre><b style='font-size: 20px;'>Results Summary</b><hr>\n",
       "</pre>"
      ]
     },
     "execution_count": null,
     "metadata": {},
     "output_type": "execute_result"
    }
   ],
   "source": [
    "body {\n",
    "    background-color: #fff\n",
    "    font-family: Arial, sans-serif;\n",
    " }\n",
    "\n",
    " .header {\n",
    "    padding: 10px;\n",
    "    background-color: #333;\n",
    "    color: white;\n",
    " }\n",
    "\n",
    " .card {\n",
    "    border: 1px solid #ccc;\n",
    "    padding: 15px;\n",
    "    margin: 10px;\n",
    " }\n",
    "\n",
    " .card-title {\n",
    "    font-size: 18px;\n",
    "    font-weight: bold\n",
    " }\n",
    "\n",
    " .card-footer {\n",
    "    text-align: right;\n",
    "    padding-top: 10px;\n",
    " }\n",
    " .important {\n",
    "    /* Styles for .important */\n",
    " }"
   ]
  }
 ],
 "metadata": {
  "kernelspec": {
   "display_name": "Python 3 (ipykernel)",
   "language": "python",
   "name": "python3"
  },
  "language_info": {
   "codemirror_mode": {
    "name": "ipython",
    "version": 3
   },
   "file_extension": ".py",
   "mimetype": "text/x-python",
   "name": "python",
   "nbconvert_exporter": "python",
   "pygments_lexer": "ipython3",
   "version": "3.11.7"
  }
 },
 "nbformat": 4,
 "nbformat_minor": 5
}
