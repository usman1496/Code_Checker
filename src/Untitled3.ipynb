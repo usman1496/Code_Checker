{
 "cells": [
  {
   "cell_type": "code",
   "execution_count": null,
   "id": "83c20d5f-4307-42cc-b330-4a7610526ae9",
   "metadata": {},
   "outputs": [],
   "source": [
    "<!DOCTYPE html>\n",
    "<head>  \n",
    "  <title>Hello</title>\n",
    "</head>\n",
    "<body>\n",
    "   \n",
    "    <nav>\n",
    "        <ul>\n",
    "            <li><a href=\"#\">Home</a></li>\n",
    "            <li><a href=\"#\">About</a></li>\n",
    "            <li class=\"dropdown\">\n",
    "                <a href=\"#\">Services</a>\n",
    "                <ul class=\"dropdown-menu\">\n",
    "                    <li><a href=\"#\">Consulting</a></li>\n",
    "                    <li><a href=\"#\">Development</a></li>\n",
    "                    <li><a href=\"#\">Support</a></li>\n",
    "                </ul>\n",
    "            </li>\n",
    "            <li><a href=\"#\">Contact</a></li>\n",
    "        </ul>\n",
    "    </nav>\n",
    "    <main>\n",
    "        <section class=\"card\">\n",
    "            <div class=\"card-header\">Card Header</div>\n",
    "            <div class=\"card-body\">Card Body</div>\n",
    "          \n",
    "        </section>\n",
    "    </main>\n",
    "    <aside>\n",
    "        <p>Additional information</p>\n",
    "    </aside>\n",
    "    <footer>\n",
    "        <p>Footer Content</p>\n",
    "    </footer>\n",
    "</body>\n",
    "</html>"
   ]
  }
 ],
 "metadata": {
  "kernelspec": {
   "display_name": "Python 3 (ipykernel)",
   "language": "python",
   "name": "python3"
  },
  "language_info": {
   "codemirror_mode": {
    "name": "ipython",
    "version": 3
   },
   "file_extension": ".py",
   "mimetype": "text/x-python",
   "name": "python",
   "nbconvert_exporter": "python",
   "pygments_lexer": "ipython3",
   "version": "3.11.7"
  }
 },
 "nbformat": 4,
 "nbformat_minor": 5
}
